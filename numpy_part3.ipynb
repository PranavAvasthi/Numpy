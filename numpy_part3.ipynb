{
 "cells": [
  {
   "cell_type": "code",
   "execution_count": 1,
   "id": "5222df2a-4121-4371-b4f1-070a07762777",
   "metadata": {},
   "outputs": [],
   "source": [
    "#Sort, Search & Counting Funcions"
   ]
  },
  {
   "cell_type": "code",
   "execution_count": 3,
   "id": "50b3f09c-4b38-4b09-8c17-070749d0d42b",
   "metadata": {},
   "outputs": [],
   "source": [
    "import numpy as np"
   ]
  },
  {
   "cell_type": "code",
   "execution_count": 9,
   "id": "3940fe83-ea7f-46a1-886b-160e1191fe40",
   "metadata": {},
   "outputs": [],
   "source": [
    "arr = np.array([4, 3, 4, 5, 6, 72, 3, 3, 455, 5, 6, 6])"
   ]
  },
  {
   "cell_type": "code",
   "execution_count": 11,
   "id": "76f65bc4-ea3c-4caa-a883-858b2512254f",
   "metadata": {},
   "outputs": [
    {
     "data": {
      "text/plain": [
       "array([  4,   3,   4,   5,   6,  72,   3,   3, 455,   5,   6,   6])"
      ]
     },
     "execution_count": 11,
     "metadata": {},
     "output_type": "execute_result"
    }
   ],
   "source": [
    "arr"
   ]
  },
  {
   "cell_type": "code",
   "execution_count": 13,
   "id": "621bee9e-d343-4f6a-9340-e4af3260bb09",
   "metadata": {},
   "outputs": [
    {
     "data": {
      "text/plain": [
       "array([  3,   3,   3,   4,   4,   5,   5,   6,   6,   6,  72, 455])"
      ]
     },
     "execution_count": 13,
     "metadata": {},
     "output_type": "execute_result"
    }
   ],
   "source": [
    "np.sort(arr)"
   ]
  },
  {
   "cell_type": "code",
   "execution_count": 15,
   "id": "07d0f7c3-5f75-413e-936e-ae68000c7e31",
   "metadata": {},
   "outputs": [
    {
     "data": {
      "text/plain": [
       "12"
      ]
     },
     "execution_count": 15,
     "metadata": {},
     "output_type": "execute_result"
    }
   ],
   "source": [
    "np.searchsorted(arr, 34)"
   ]
  },
  {
   "cell_type": "code",
   "execution_count": 17,
   "id": "79cea705-286c-4044-ba3e-ab2608ff4035",
   "metadata": {},
   "outputs": [],
   "source": [
    "arr1 = np.array([0, 345, 454, 0, 0, 0, 0, 0])"
   ]
  },
  {
   "cell_type": "code",
   "execution_count": 19,
   "id": "a0e1eade-12a0-4904-8b7b-7b2dcf611b20",
   "metadata": {},
   "outputs": [
    {
     "data": {
      "text/plain": [
       "array([  0, 345, 454,   0,   0,   0,   0,   0])"
      ]
     },
     "execution_count": 19,
     "metadata": {},
     "output_type": "execute_result"
    }
   ],
   "source": [
    "arr1"
   ]
  },
  {
   "cell_type": "code",
   "execution_count": 21,
   "id": "bafb3eda-5e5e-47ae-9f0e-adee849e514c",
   "metadata": {},
   "outputs": [
    {
     "data": {
      "text/plain": [
       "2"
      ]
     },
     "execution_count": 21,
     "metadata": {},
     "output_type": "execute_result"
    }
   ],
   "source": [
    "np.count_nonzero(arr1)"
   ]
  },
  {
   "cell_type": "code",
   "execution_count": 23,
   "id": "d1307948-d319-4a3a-b4bd-4f98238eb774",
   "metadata": {},
   "outputs": [
    {
     "data": {
      "text/plain": [
       "array([  4,   3,   4,   5,   6,  72,   3,   3, 455,   5,   6,   6])"
      ]
     },
     "execution_count": 23,
     "metadata": {},
     "output_type": "execute_result"
    }
   ],
   "source": [
    "arr"
   ]
  },
  {
   "cell_type": "code",
   "execution_count": 25,
   "id": "9d5e4044-5c45-4871-a5fa-0f2f7a0a7dff",
   "metadata": {},
   "outputs": [
    {
     "data": {
      "text/plain": [
       "(array([5, 8]),)"
      ]
     },
     "execution_count": 25,
     "metadata": {},
     "output_type": "execute_result"
    }
   ],
   "source": [
    "np.where(arr > 6)"
   ]
  },
  {
   "cell_type": "code",
   "execution_count": 29,
   "id": "368c47b3-282e-411b-ab21-e1a80bf90a2a",
   "metadata": {},
   "outputs": [
    {
     "data": {
      "text/plain": [
       "array([  4,   4,   5,   6,  72, 455,   5,   6,   6])"
      ]
     },
     "execution_count": 29,
     "metadata": {},
     "output_type": "execute_result"
    }
   ],
   "source": [
    "np.extract(arr > 3, arr)"
   ]
  },
  {
   "cell_type": "code",
   "execution_count": null,
   "id": "935a15d7-5ff7-44aa-9387-c9e59152da3e",
   "metadata": {},
   "outputs": [],
   "source": []
  }
 ],
 "metadata": {
  "kernelspec": {
   "display_name": "Python 3 (ipykernel)",
   "language": "python",
   "name": "python3"
  },
  "language_info": {
   "codemirror_mode": {
    "name": "ipython",
    "version": 3
   },
   "file_extension": ".py",
   "mimetype": "text/x-python",
   "name": "python",
   "nbconvert_exporter": "python",
   "pygments_lexer": "ipython3",
   "version": "3.12.7"
  }
 },
 "nbformat": 4,
 "nbformat_minor": 5
}
