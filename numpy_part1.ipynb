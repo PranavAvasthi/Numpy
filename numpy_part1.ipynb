{
 "cells": [
  {
   "cell_type": "code",
   "execution_count": 2,
   "id": "f2abce4b-0e7c-44f5-b438-7eb1518d8103",
   "metadata": {},
   "outputs": [],
   "source": [
    "import numpy as np"
   ]
  },
  {
   "cell_type": "code",
   "execution_count": 6,
   "id": "0089393e-2430-4b34-ab84-2e499e87abc9",
   "metadata": {},
   "outputs": [],
   "source": [
    "l = [1,2,3,4]"
   ]
  },
  {
   "cell_type": "code",
   "execution_count": 10,
   "id": "097c7e5e-db2b-4d68-93f0-b65b3c632316",
   "metadata": {},
   "outputs": [],
   "source": [
    "arr = np.array(l)"
   ]
  },
  {
   "cell_type": "code",
   "execution_count": 12,
   "id": "4abc7ba9-394b-4e79-929a-14387c56709b",
   "metadata": {},
   "outputs": [
    {
     "data": {
      "text/plain": [
       "numpy.ndarray"
      ]
     },
     "execution_count": 12,
     "metadata": {},
     "output_type": "execute_result"
    }
   ],
   "source": [
    "type(arr)"
   ]
  },
  {
   "cell_type": "code",
   "execution_count": 14,
   "id": "f9371c1a-91ff-446f-8b65-1600715906a4",
   "metadata": {},
   "outputs": [],
   "source": [
    "# N- dimensional Array"
   ]
  },
  {
   "cell_type": "code",
   "execution_count": 18,
   "id": "882303ab-1bd7-4ef1-88d9-0b4c0578d240",
   "metadata": {},
   "outputs": [
    {
     "data": {
      "text/plain": [
       "array([[1, 2],\n",
       "       [3, 4]])"
      ]
     },
     "execution_count": 18,
     "metadata": {},
     "output_type": "execute_result"
    }
   ],
   "source": [
    "np.array([[1,2], [3,4]])"
   ]
  },
  {
   "cell_type": "code",
   "execution_count": 20,
   "id": "1e6a6b1c-699e-4c23-86f9-6a71f7d4ba9c",
   "metadata": {},
   "outputs": [
    {
     "data": {
      "text/plain": [
       "array([1, 2, 3, 4])"
      ]
     },
     "execution_count": 20,
     "metadata": {},
     "output_type": "execute_result"
    }
   ],
   "source": [
    "np.asarray([1, 2, 3, 4])"
   ]
  },
  {
   "cell_type": "code",
   "execution_count": 22,
   "id": "99209e6d-6e8f-47a1-ad41-75bc2715b78a",
   "metadata": {},
   "outputs": [],
   "source": [
    "a = [2, 3, 4]"
   ]
  },
  {
   "cell_type": "code",
   "execution_count": 24,
   "id": "dab07719-7c77-441b-afbf-cb87b4c527c2",
   "metadata": {},
   "outputs": [
    {
     "data": {
      "text/plain": [
       "array([2, 3, 4])"
      ]
     },
     "execution_count": 24,
     "metadata": {},
     "output_type": "execute_result"
    }
   ],
   "source": [
    "np.asanyarray(a)"
   ]
  },
  {
   "cell_type": "code",
   "execution_count": 26,
   "id": "71a42727-931c-4e04-907b-a11c1c72893f",
   "metadata": {},
   "outputs": [],
   "source": [
    "b = np.matrix(l)"
   ]
  },
  {
   "cell_type": "code",
   "execution_count": 28,
   "id": "33743467-9c02-4199-9a64-3cace72c168b",
   "metadata": {},
   "outputs": [
    {
     "data": {
      "text/plain": [
       "matrix([[1, 2, 3, 4]])"
      ]
     },
     "execution_count": 28,
     "metadata": {},
     "output_type": "execute_result"
    }
   ],
   "source": [
    "b"
   ]
  },
  {
   "cell_type": "code",
   "execution_count": 30,
   "id": "09c9a779-87f9-48a6-80ca-d54ad6236395",
   "metadata": {},
   "outputs": [
    {
     "data": {
      "text/plain": [
       "matrix([[1, 2, 3, 4]])"
      ]
     },
     "execution_count": 30,
     "metadata": {},
     "output_type": "execute_result"
    }
   ],
   "source": [
    "np.asanyarray(b)"
   ]
  },
  {
   "cell_type": "code",
   "execution_count": 32,
   "id": "0dc5abdd-ab6f-453b-9ed1-f3b16045a0c6",
   "metadata": {},
   "outputs": [],
   "source": [
    "a = np.array(l)"
   ]
  },
  {
   "cell_type": "code",
   "execution_count": 34,
   "id": "df205f32-a401-4e2f-b7f9-e92652bff3e4",
   "metadata": {},
   "outputs": [
    {
     "data": {
      "text/plain": [
       "array([1, 2, 3, 4])"
      ]
     },
     "execution_count": 34,
     "metadata": {},
     "output_type": "execute_result"
    }
   ],
   "source": [
    "a"
   ]
  },
  {
   "cell_type": "code",
   "execution_count": 36,
   "id": "6ffc5b7b-e85a-4125-8f45-be51d4678fa7",
   "metadata": {},
   "outputs": [],
   "source": [
    "c = a"
   ]
  },
  {
   "cell_type": "code",
   "execution_count": 38,
   "id": "012ed795-d48c-47f6-897f-2f44b4ca2328",
   "metadata": {},
   "outputs": [
    {
     "data": {
      "text/plain": [
       "array([1, 2, 3, 4])"
      ]
     },
     "execution_count": 38,
     "metadata": {},
     "output_type": "execute_result"
    }
   ],
   "source": [
    "c"
   ]
  },
  {
   "cell_type": "code",
   "execution_count": 40,
   "id": "dbe43453-e2b4-4cd1-8fa0-72e24b880a4c",
   "metadata": {},
   "outputs": [
    {
     "data": {
      "text/plain": [
       "1"
      ]
     },
     "execution_count": 40,
     "metadata": {},
     "output_type": "execute_result"
    }
   ],
   "source": [
    "c[0]"
   ]
  },
  {
   "cell_type": "code",
   "execution_count": 42,
   "id": "4eb8f91c-3c0e-4bcd-8a09-74be99981045",
   "metadata": {},
   "outputs": [],
   "source": [
    "c[0] = 100"
   ]
  },
  {
   "cell_type": "code",
   "execution_count": 44,
   "id": "ab6d6613-71b2-477f-b6c6-54c856a0b518",
   "metadata": {},
   "outputs": [
    {
     "data": {
      "text/plain": [
       "array([100,   2,   3,   4])"
      ]
     },
     "execution_count": 44,
     "metadata": {},
     "output_type": "execute_result"
    }
   ],
   "source": [
    "c"
   ]
  },
  {
   "cell_type": "code",
   "execution_count": 46,
   "id": "fd0b01b2-2315-4caf-8dee-38c4a88808df",
   "metadata": {},
   "outputs": [
    {
     "data": {
      "text/plain": [
       "array([100,   2,   3,   4])"
      ]
     },
     "execution_count": 46,
     "metadata": {},
     "output_type": "execute_result"
    }
   ],
   "source": [
    "a"
   ]
  },
  {
   "cell_type": "code",
   "execution_count": 48,
   "id": "0aeffeff-f96c-48f8-a8a2-d84edbb3fdbc",
   "metadata": {},
   "outputs": [],
   "source": [
    "d = np.copy(a)"
   ]
  },
  {
   "cell_type": "code",
   "execution_count": 50,
   "id": "eb85a2e2-4d47-423a-8760-7be21279e4f6",
   "metadata": {},
   "outputs": [
    {
     "data": {
      "text/plain": [
       "array([100,   2,   3,   4])"
      ]
     },
     "execution_count": 50,
     "metadata": {},
     "output_type": "execute_result"
    }
   ],
   "source": [
    "d"
   ]
  },
  {
   "cell_type": "code",
   "execution_count": 52,
   "id": "390b1c66-9a3d-4572-a74f-cea835c07070",
   "metadata": {},
   "outputs": [
    {
     "data": {
      "text/plain": [
       "array([100,   2,   3,   4])"
      ]
     },
     "execution_count": 52,
     "metadata": {},
     "output_type": "execute_result"
    }
   ],
   "source": [
    "a"
   ]
  },
  {
   "cell_type": "code",
   "execution_count": 54,
   "id": "1db22d61-473a-4fff-87f4-de285d58e529",
   "metadata": {},
   "outputs": [],
   "source": [
    "a[1] = 400"
   ]
  },
  {
   "cell_type": "code",
   "execution_count": 56,
   "id": "093021d7-c35e-4fb8-92f8-48e6d8d82224",
   "metadata": {},
   "outputs": [
    {
     "data": {
      "text/plain": [
       "array([100, 400,   3,   4])"
      ]
     },
     "execution_count": 56,
     "metadata": {},
     "output_type": "execute_result"
    }
   ],
   "source": [
    "a"
   ]
  },
  {
   "cell_type": "code",
   "execution_count": 58,
   "id": "09ab396d-e93e-4dbc-aca4-16db0bbf4648",
   "metadata": {},
   "outputs": [
    {
     "data": {
      "text/plain": [
       "array([100,   2,   3,   4])"
      ]
     },
     "execution_count": 58,
     "metadata": {},
     "output_type": "execute_result"
    }
   ],
   "source": [
    "d"
   ]
  },
  {
   "cell_type": "code",
   "execution_count": 60,
   "id": "8e8155c1-ac4e-4306-9bd5-3c3d0122fdaa",
   "metadata": {},
   "outputs": [
    {
     "data": {
      "text/plain": [
       "array([[ True, False, False],\n",
       "       [False,  True, False],\n",
       "       [False, False,  True]])"
      ]
     },
     "execution_count": 60,
     "metadata": {},
     "output_type": "execute_result"
    }
   ],
   "source": [
    "np.fromfunction(lambda i, j : i==j, (3,3))"
   ]
  },
  {
   "cell_type": "code",
   "execution_count": 62,
   "id": "cc5b7ac1-98a2-4706-bd3c-86a5c8f6fd7a",
   "metadata": {},
   "outputs": [
    {
     "data": {
      "text/plain": [
       "array([[0., 0., 0.],\n",
       "       [0., 1., 2.],\n",
       "       [0., 2., 4.]])"
      ]
     },
     "execution_count": 62,
     "metadata": {},
     "output_type": "execute_result"
    }
   ],
   "source": [
    "np.fromfunction(lambda i, j : i*j, (3,3))"
   ]
  },
  {
   "cell_type": "code",
   "execution_count": 64,
   "id": "f21eef07-2a70-4c65-87d7-419c8e9c474b",
   "metadata": {},
   "outputs": [],
   "source": [
    "iterable = (i*i for i in range(5))"
   ]
  },
  {
   "cell_type": "code",
   "execution_count": 66,
   "id": "bd22dafa-7271-4609-8ecc-7e5b814b205a",
   "metadata": {},
   "outputs": [
    {
     "data": {
      "text/plain": [
       "array([ 0.,  1.,  4.,  9., 16.])"
      ]
     },
     "execution_count": 66,
     "metadata": {},
     "output_type": "execute_result"
    }
   ],
   "source": [
    "np.fromiter(iterable, float)"
   ]
  },
  {
   "cell_type": "code",
   "execution_count": 68,
   "id": "5b672e1b-2097-407d-ac4e-c94f58f068c5",
   "metadata": {},
   "outputs": [
    {
     "data": {
      "text/plain": [
       "array([234., 234.])"
      ]
     },
     "execution_count": 68,
     "metadata": {},
     "output_type": "execute_result"
    }
   ],
   "source": [
    "np.fromstring('234 234', sep=' ')"
   ]
  },
  {
   "cell_type": "code",
   "execution_count": 70,
   "id": "bbf0baed-398c-4fb9-910c-ce673541e0b5",
   "metadata": {},
   "outputs": [
    {
     "data": {
      "text/plain": [
       "array([4., 5.])"
      ]
     },
     "execution_count": 70,
     "metadata": {},
     "output_type": "execute_result"
    }
   ],
   "source": [
    "np.fromstring('4,5', sep=',')"
   ]
  },
  {
   "cell_type": "code",
   "execution_count": 72,
   "id": "4702960d-c4f8-49f7-8186-27dfe9dc53eb",
   "metadata": {},
   "outputs": [],
   "source": [
    "#Numpy - Data Types"
   ]
  },
  {
   "cell_type": "code",
   "execution_count": 74,
   "id": "6a48de4f-9515-4b0a-9463-6a843a7c0d1a",
   "metadata": {},
   "outputs": [],
   "source": [
    "l = [2, 3, 4, 5, 6]"
   ]
  },
  {
   "cell_type": "code",
   "execution_count": 76,
   "id": "c20b6a1d-148c-44a1-87da-867198070a1d",
   "metadata": {},
   "outputs": [],
   "source": [
    "arr = np.array(l)"
   ]
  },
  {
   "cell_type": "code",
   "execution_count": 78,
   "id": "24d48d79-c058-43a0-b507-fc3cb075b712",
   "metadata": {},
   "outputs": [
    {
     "data": {
      "text/plain": [
       "array([2, 3, 4, 5, 6])"
      ]
     },
     "execution_count": 78,
     "metadata": {},
     "output_type": "execute_result"
    }
   ],
   "source": [
    "arr"
   ]
  },
  {
   "cell_type": "code",
   "execution_count": 80,
   "id": "8d8f117a-bb67-4f91-9eb0-c5c4b562e048",
   "metadata": {},
   "outputs": [
    {
     "data": {
      "text/plain": [
       "1"
      ]
     },
     "execution_count": 80,
     "metadata": {},
     "output_type": "execute_result"
    }
   ],
   "source": [
    "arr.ndim"
   ]
  },
  {
   "cell_type": "code",
   "execution_count": 86,
   "id": "3231a36b-883d-4253-bef7-28f9b70fb366",
   "metadata": {},
   "outputs": [],
   "source": [
    "arr2 = np.array([[1, 2, 3, 4], [2, 3, 4, 5]])"
   ]
  },
  {
   "cell_type": "code",
   "execution_count": 88,
   "id": "0de05a6b-5d1c-4daf-bbd0-db2e8f3cc544",
   "metadata": {},
   "outputs": [
    {
     "data": {
      "text/plain": [
       "array([[1, 2, 3, 4],\n",
       "       [2, 3, 4, 5]])"
      ]
     },
     "execution_count": 88,
     "metadata": {},
     "output_type": "execute_result"
    }
   ],
   "source": [
    "arr2"
   ]
  },
  {
   "cell_type": "code",
   "execution_count": 90,
   "id": "c089a644-ed6d-4356-bd75-b0fb7f8d6c86",
   "metadata": {},
   "outputs": [
    {
     "data": {
      "text/plain": [
       "2"
      ]
     },
     "execution_count": 90,
     "metadata": {},
     "output_type": "execute_result"
    }
   ],
   "source": [
    "arr2.ndim"
   ]
  },
  {
   "cell_type": "code",
   "execution_count": 92,
   "id": "42ba08e7-ce39-42da-951e-7d3c79441502",
   "metadata": {},
   "outputs": [
    {
     "data": {
      "text/plain": [
       "8"
      ]
     },
     "execution_count": 92,
     "metadata": {},
     "output_type": "execute_result"
    }
   ],
   "source": [
    "arr2.size"
   ]
  },
  {
   "cell_type": "code",
   "execution_count": 94,
   "id": "ce3276e5-d5d4-4970-a3c1-47467b9299c4",
   "metadata": {},
   "outputs": [
    {
     "data": {
      "text/plain": [
       "5"
      ]
     },
     "execution_count": 94,
     "metadata": {},
     "output_type": "execute_result"
    }
   ],
   "source": [
    "arr.size"
   ]
  },
  {
   "cell_type": "code",
   "execution_count": 98,
   "id": "98e44f18-2e30-4d32-bd89-f560fb81e407",
   "metadata": {},
   "outputs": [
    {
     "data": {
      "text/plain": [
       "(5,)"
      ]
     },
     "execution_count": 98,
     "metadata": {},
     "output_type": "execute_result"
    }
   ],
   "source": [
    "arr.shape"
   ]
  },
  {
   "cell_type": "code",
   "execution_count": 100,
   "id": "18792b87-52ca-4867-be10-637ebbc62cc4",
   "metadata": {},
   "outputs": [
    {
     "data": {
      "text/plain": [
       "(2, 4)"
      ]
     },
     "execution_count": 100,
     "metadata": {},
     "output_type": "execute_result"
    }
   ],
   "source": [
    "arr2.shape"
   ]
  },
  {
   "cell_type": "code",
   "execution_count": 102,
   "id": "26ab65eb-8085-4eea-b6fa-0ee6fa8206f4",
   "metadata": {},
   "outputs": [
    {
     "data": {
      "text/plain": [
       "dtype('int64')"
      ]
     },
     "execution_count": 102,
     "metadata": {},
     "output_type": "execute_result"
    }
   ],
   "source": [
    "arr.dtype"
   ]
  },
  {
   "cell_type": "code",
   "execution_count": 104,
   "id": "3c27dc14-30df-4a87-95bf-7362f103851b",
   "metadata": {},
   "outputs": [
    {
     "data": {
      "text/plain": [
       "dtype('int64')"
      ]
     },
     "execution_count": 104,
     "metadata": {},
     "output_type": "execute_result"
    }
   ],
   "source": [
    "arr2.dtype"
   ]
  },
  {
   "cell_type": "code",
   "execution_count": 106,
   "id": "6e9a7ece-bebc-40e9-ac27-2bce3ed1880d",
   "metadata": {},
   "outputs": [],
   "source": [
    "arr3 = np.array([(1.4, 45, 45), (23, 45, 66)])"
   ]
  },
  {
   "cell_type": "code",
   "execution_count": 108,
   "id": "46c2aca1-1ebd-4df4-bf29-0b335c83ae4a",
   "metadata": {},
   "outputs": [
    {
     "data": {
      "text/plain": [
       "array([[ 1.4, 45. , 45. ],\n",
       "       [23. , 45. , 66. ]])"
      ]
     },
     "execution_count": 108,
     "metadata": {},
     "output_type": "execute_result"
    }
   ],
   "source": [
    "arr3"
   ]
  },
  {
   "cell_type": "code",
   "execution_count": 110,
   "id": "98a4f331-0ece-4a68-816e-606c3f1feaad",
   "metadata": {},
   "outputs": [
    {
     "data": {
      "text/plain": [
       "dtype('float64')"
      ]
     },
     "execution_count": 110,
     "metadata": {},
     "output_type": "execute_result"
    }
   ],
   "source": [
    "arr3.dtype"
   ]
  },
  {
   "cell_type": "code",
   "execution_count": 114,
   "id": "a9ba3d86-237e-4edd-8a16-1fea552fbc5a",
   "metadata": {},
   "outputs": [
    {
     "data": {
      "text/plain": [
       "[0, 1, 2, 3, 4]"
      ]
     },
     "execution_count": 114,
     "metadata": {},
     "output_type": "execute_result"
    }
   ],
   "source": [
    "list(range(5))"
   ]
  },
  {
   "cell_type": "code",
   "execution_count": 118,
   "id": "70dad3ad-2476-41a3-88c6-faf6d88a93b4",
   "metadata": {},
   "outputs": [],
   "source": [
    "# it will not work -> list(range(0.1, 5))"
   ]
  },
  {
   "cell_type": "code",
   "execution_count": 120,
   "id": "021253bb-f130-40ef-9b22-dd3944038988",
   "metadata": {},
   "outputs": [
    {
     "data": {
      "text/plain": [
       "array([2.3, 3.3, 4.3, 5.3])"
      ]
     },
     "execution_count": 120,
     "metadata": {},
     "output_type": "execute_result"
    }
   ],
   "source": [
    "np.arange(2.3, 5.6)"
   ]
  },
  {
   "cell_type": "code",
   "execution_count": 126,
   "id": "a13c0340-6a9a-4a35-88c3-17cda58d0b56",
   "metadata": {},
   "outputs": [
    {
     "data": {
      "text/plain": [
       "[2.3,\n",
       " 2.5999999999999996,\n",
       " 2.8999999999999995,\n",
       " 3.1999999999999993,\n",
       " 3.499999999999999,\n",
       " 3.799999999999999,\n",
       " 4.099999999999999,\n",
       " 4.399999999999999,\n",
       " 4.699999999999998,\n",
       " 4.999999999999998,\n",
       " 5.299999999999998]"
      ]
     },
     "execution_count": 126,
     "metadata": {},
     "output_type": "execute_result"
    }
   ],
   "source": [
    "list(np.arange(2.3, 5.6, 0.3))"
   ]
  },
  {
   "cell_type": "code",
   "execution_count": 128,
   "id": "590f787d-347e-464d-94f4-8c80ba75dff8",
   "metadata": {},
   "outputs": [
    {
     "data": {
      "text/plain": [
       "array([1.        , 1.44444444, 1.88888889, 2.33333333, 2.77777778,\n",
       "       3.22222222, 3.66666667, 4.11111111, 4.55555556, 5.        ])"
      ]
     },
     "execution_count": 128,
     "metadata": {},
     "output_type": "execute_result"
    }
   ],
   "source": [
    "np.linspace(1,5,10)"
   ]
  },
  {
   "cell_type": "code",
   "execution_count": 130,
   "id": "6621c2a6-ce4d-4116-a945-11a3553c3ebc",
   "metadata": {},
   "outputs": [
    {
     "data": {
      "text/plain": [
       "array([0., 0., 0., 0., 0.])"
      ]
     },
     "execution_count": 130,
     "metadata": {},
     "output_type": "execute_result"
    }
   ],
   "source": [
    "np.zeros(5)"
   ]
  },
  {
   "cell_type": "code",
   "execution_count": 136,
   "id": "be20ff6d-617f-4376-845d-484f7843b44f",
   "metadata": {},
   "outputs": [
    {
     "data": {
      "text/plain": [
       "array([[0., 0., 0., 0.],\n",
       "       [0., 0., 0., 0.],\n",
       "       [0., 0., 0., 0.]])"
      ]
     },
     "execution_count": 136,
     "metadata": {},
     "output_type": "execute_result"
    }
   ],
   "source": [
    "np.zeros((3, 4)) #x,y"
   ]
  },
  {
   "cell_type": "code",
   "execution_count": 138,
   "id": "924c8b43-2bf0-4f4d-8aa7-fa6243f51f38",
   "metadata": {},
   "outputs": [
    {
     "data": {
      "text/plain": [
       "array([[[0., 0.],\n",
       "        [0., 0.],\n",
       "        [0., 0.],\n",
       "        [0., 0.]],\n",
       "\n",
       "       [[0., 0.],\n",
       "        [0., 0.],\n",
       "        [0., 0.],\n",
       "        [0., 0.]],\n",
       "\n",
       "       [[0., 0.],\n",
       "        [0., 0.],\n",
       "        [0., 0.],\n",
       "        [0., 0.]]])"
      ]
     },
     "execution_count": 138,
     "metadata": {},
     "output_type": "execute_result"
    }
   ],
   "source": [
    "np.zeros((3, 4, 2)) #z,x,y"
   ]
  },
  {
   "cell_type": "code",
   "execution_count": 142,
   "id": "5955de88-06d7-4cd6-af4b-f0170912f261",
   "metadata": {},
   "outputs": [],
   "source": [
    " arr4 = np.zeros((3, 4, 2, 3))"
   ]
  },
  {
   "cell_type": "code",
   "execution_count": 144,
   "id": "72a0fcb9-2742-4d53-938a-e23e4e1dc56f",
   "metadata": {},
   "outputs": [
    {
     "data": {
      "text/plain": [
       "array([[[[0., 0., 0.],\n",
       "         [0., 0., 0.]],\n",
       "\n",
       "        [[0., 0., 0.],\n",
       "         [0., 0., 0.]],\n",
       "\n",
       "        [[0., 0., 0.],\n",
       "         [0., 0., 0.]],\n",
       "\n",
       "        [[0., 0., 0.],\n",
       "         [0., 0., 0.]]],\n",
       "\n",
       "\n",
       "       [[[0., 0., 0.],\n",
       "         [0., 0., 0.]],\n",
       "\n",
       "        [[0., 0., 0.],\n",
       "         [0., 0., 0.]],\n",
       "\n",
       "        [[0., 0., 0.],\n",
       "         [0., 0., 0.]],\n",
       "\n",
       "        [[0., 0., 0.],\n",
       "         [0., 0., 0.]]],\n",
       "\n",
       "\n",
       "       [[[0., 0., 0.],\n",
       "         [0., 0., 0.]],\n",
       "\n",
       "        [[0., 0., 0.],\n",
       "         [0., 0., 0.]],\n",
       "\n",
       "        [[0., 0., 0.],\n",
       "         [0., 0., 0.]],\n",
       "\n",
       "        [[0., 0., 0.],\n",
       "         [0., 0., 0.]]]])"
      ]
     },
     "execution_count": 144,
     "metadata": {},
     "output_type": "execute_result"
    }
   ],
   "source": [
    "arr4"
   ]
  },
  {
   "cell_type": "code",
   "execution_count": 146,
   "id": "622542c8-40a7-493e-a9ba-789cf4db270f",
   "metadata": {},
   "outputs": [
    {
     "data": {
      "text/plain": [
       "4"
      ]
     },
     "execution_count": 146,
     "metadata": {},
     "output_type": "execute_result"
    }
   ],
   "source": [
    "arr4.ndim"
   ]
  },
  {
   "cell_type": "code",
   "execution_count": 148,
   "id": "063be52d-800a-4a6f-8af5-474233c7bb30",
   "metadata": {},
   "outputs": [
    {
     "data": {
      "text/plain": [
       "array([1., 1., 1., 1.])"
      ]
     },
     "execution_count": 148,
     "metadata": {},
     "output_type": "execute_result"
    }
   ],
   "source": [
    "np.ones(4)"
   ]
  },
  {
   "cell_type": "code",
   "execution_count": 154,
   "id": "e738c614-8d3f-4281-bbfa-bb5e8aac5db2",
   "metadata": {},
   "outputs": [
    {
     "data": {
      "text/plain": [
       "array([[1., 1., 1.],\n",
       "       [1., 1., 1.]])"
      ]
     },
     "execution_count": 154,
     "metadata": {},
     "output_type": "execute_result"
    }
   ],
   "source": [
    "np.ones((2, 3))"
   ]
  },
  {
   "cell_type": "code",
   "execution_count": 158,
   "id": "31a50915-1edc-4cc0-958a-a056a4bf382f",
   "metadata": {},
   "outputs": [],
   "source": [
    "on = np.ones((2, 3, 2))"
   ]
  },
  {
   "cell_type": "code",
   "execution_count": 160,
   "id": "aad08dd4-4d24-4edb-be15-782fe7e82059",
   "metadata": {},
   "outputs": [
    {
     "data": {
      "text/plain": [
       "array([[[6., 6.],\n",
       "        [6., 6.],\n",
       "        [6., 6.]],\n",
       "\n",
       "       [[6., 6.],\n",
       "        [6., 6.],\n",
       "        [6., 6.]]])"
      ]
     },
     "execution_count": 160,
     "metadata": {},
     "output_type": "execute_result"
    }
   ],
   "source": [
    "on + 5"
   ]
  },
  {
   "cell_type": "code",
   "execution_count": 162,
   "id": "13eafcc9-f86e-45b4-9c1d-ea0a5efa3e98",
   "metadata": {},
   "outputs": [
    {
     "data": {
      "text/plain": [
       "array([[[4., 4.],\n",
       "        [4., 4.],\n",
       "        [4., 4.]],\n",
       "\n",
       "       [[4., 4.],\n",
       "        [4., 4.],\n",
       "        [4., 4.]]])"
      ]
     },
     "execution_count": 162,
     "metadata": {},
     "output_type": "execute_result"
    }
   ],
   "source": [
    "on * 4"
   ]
  },
  {
   "cell_type": "code",
   "execution_count": 166,
   "id": "860d83f8-baf5-4e93-80e9-e873e4bd8715",
   "metadata": {},
   "outputs": [
    {
     "data": {
      "text/plain": [
       "array([[0., 0., 0., 1., 1., 1.],\n",
       "       [2., 2., 2., 0., 1., 2.],\n",
       "       [0., 1., 2., 0., 1., 2.]])"
      ]
     },
     "execution_count": 166,
     "metadata": {},
     "output_type": "execute_result"
    }
   ],
   "source": [
    "np.empty((3, 6))"
   ]
  },
  {
   "cell_type": "code",
   "execution_count": 168,
   "id": "93fc8e49-ef30-4853-a675-11882cef4876",
   "metadata": {},
   "outputs": [
    {
     "data": {
      "text/plain": [
       "array([[1., 0., 0., 0.],\n",
       "       [0., 1., 0., 0.],\n",
       "       [0., 0., 1., 0.],\n",
       "       [0., 0., 0., 1.]])"
      ]
     },
     "execution_count": 168,
     "metadata": {},
     "output_type": "execute_result"
    }
   ],
   "source": [
    "np.eye(4)"
   ]
  },
  {
   "cell_type": "code",
   "execution_count": 174,
   "id": "153eb232-f333-468a-ade1-5dbd97edcff5",
   "metadata": {},
   "outputs": [
    {
     "data": {
      "text/plain": [
       "array([ 4.        ,  5.0396842 ,  6.34960421,  8.        , 10.0793684 ,\n",
       "       12.69920842, 16.        , 20.1587368 , 25.39841683, 32.        ])"
      ]
     },
     "execution_count": 174,
     "metadata": {},
     "output_type": "execute_result"
    }
   ],
   "source": [
    "np.logspace(2, 5, 10, base = 2)"
   ]
  },
  {
   "cell_type": "code",
   "execution_count": 186,
   "id": "22274448-6538-41e2-8b8c-52c3d373f192",
   "metadata": {},
   "outputs": [],
   "source": [
    "arr = np.random.randn(3,4) # Data generated where mean = 0 & standard deviation = 1"
   ]
  },
  {
   "cell_type": "code",
   "execution_count": 180,
   "id": "aa078222-e6e4-4660-ba1e-51a956c74538",
   "metadata": {},
   "outputs": [],
   "source": [
    "import pandas as pd"
   ]
  },
  {
   "cell_type": "code",
   "execution_count": 182,
   "id": "58d01a77-c979-4990-bb13-f3285fe9c3ab",
   "metadata": {},
   "outputs": [
    {
     "data": {
      "text/html": [
       "<div>\n",
       "<style scoped>\n",
       "    .dataframe tbody tr th:only-of-type {\n",
       "        vertical-align: middle;\n",
       "    }\n",
       "\n",
       "    .dataframe tbody tr th {\n",
       "        vertical-align: top;\n",
       "    }\n",
       "\n",
       "    .dataframe thead th {\n",
       "        text-align: right;\n",
       "    }\n",
       "</style>\n",
       "<table border=\"1\" class=\"dataframe\">\n",
       "  <thead>\n",
       "    <tr style=\"text-align: right;\">\n",
       "      <th></th>\n",
       "      <th>0</th>\n",
       "      <th>1</th>\n",
       "      <th>2</th>\n",
       "      <th>3</th>\n",
       "    </tr>\n",
       "  </thead>\n",
       "  <tbody>\n",
       "    <tr>\n",
       "      <th>0</th>\n",
       "      <td>0.183935</td>\n",
       "      <td>0.622967</td>\n",
       "      <td>-0.270189</td>\n",
       "      <td>-0.573853</td>\n",
       "    </tr>\n",
       "    <tr>\n",
       "      <th>1</th>\n",
       "      <td>0.132140</td>\n",
       "      <td>0.671727</td>\n",
       "      <td>0.220979</td>\n",
       "      <td>1.516122</td>\n",
       "    </tr>\n",
       "    <tr>\n",
       "      <th>2</th>\n",
       "      <td>1.354545</td>\n",
       "      <td>-0.492876</td>\n",
       "      <td>-0.683089</td>\n",
       "      <td>-2.687180</td>\n",
       "    </tr>\n",
       "  </tbody>\n",
       "</table>\n",
       "</div>"
      ],
      "text/plain": [
       "          0         1         2         3\n",
       "0  0.183935  0.622967 -0.270189 -0.573853\n",
       "1  0.132140  0.671727  0.220979  1.516122\n",
       "2  1.354545 -0.492876 -0.683089 -2.687180"
      ]
     },
     "execution_count": 182,
     "metadata": {},
     "output_type": "execute_result"
    }
   ],
   "source": [
    "pd.DataFrame(arr)"
   ]
  },
  {
   "cell_type": "code",
   "execution_count": 184,
   "id": "be6ffd2e-fa1a-4139-a114-99cd2b28933f",
   "metadata": {},
   "outputs": [
    {
     "data": {
      "text/plain": [
       "array([[0.04176561, 0.83983012, 0.32246329, 0.64970091],\n",
       "       [0.64438064, 0.0070004 , 0.391547  , 0.02464134],\n",
       "       [0.37865474, 0.25093398, 0.97130272, 0.97776426]])"
      ]
     },
     "execution_count": 184,
     "metadata": {},
     "output_type": "execute_result"
    }
   ],
   "source": [
    "np.random.rand(3,4)"
   ]
  },
  {
   "cell_type": "code",
   "execution_count": 194,
   "id": "0e365423-7d75-4a4c-9b8a-50a3eef2254a",
   "metadata": {},
   "outputs": [],
   "source": [
    "pd.DataFrame(np.random.randint(1,110, (300,400))).to_csv('test.csv')"
   ]
  },
  {
   "cell_type": "code",
   "execution_count": 196,
   "id": "40c3bfbb-0b29-45e1-bcd7-18fb59055b4d",
   "metadata": {},
   "outputs": [],
   "source": [
    "arr = np.random.rand(3,4)"
   ]
  },
  {
   "cell_type": "code",
   "execution_count": 198,
   "id": "1086e344-c93c-4d6f-adfc-9cc06d1f6d4f",
   "metadata": {},
   "outputs": [
    {
     "data": {
      "text/plain": [
       "array([[0.98682156, 0.20238688, 0.75865458, 0.37998112],\n",
       "       [0.92461968, 0.99342425, 0.77926229, 0.06939125],\n",
       "       [0.72407049, 0.30476824, 0.0960647 , 0.97556138]])"
      ]
     },
     "execution_count": 198,
     "metadata": {},
     "output_type": "execute_result"
    }
   ],
   "source": [
    "arr"
   ]
  },
  {
   "cell_type": "code",
   "execution_count": 212,
   "id": "7ecdb73c-9ad5-4a8e-964f-ff65508cd147",
   "metadata": {},
   "outputs": [],
   "source": [
    "arr1 = arr.reshape(6,2)"
   ]
  },
  {
   "cell_type": "code",
   "execution_count": 214,
   "id": "5d1b3786-7855-4197-b0d3-b19678373cd2",
   "metadata": {},
   "outputs": [
    {
     "data": {
      "text/plain": [
       "array([[0.98682156, 0.20238688],\n",
       "       [0.75865458, 0.37998112],\n",
       "       [0.92461968, 0.99342425],\n",
       "       [0.77926229, 0.06939125],\n",
       "       [0.72407049, 0.30476824],\n",
       "       [0.0960647 , 0.97556138]])"
      ]
     },
     "execution_count": 214,
     "metadata": {},
     "output_type": "execute_result"
    }
   ],
   "source": [
    "arr1"
   ]
  },
  {
   "cell_type": "code",
   "execution_count": 216,
   "id": "f74d3895-06c9-42f4-8ee1-44fe13390897",
   "metadata": {},
   "outputs": [
    {
     "data": {
      "text/plain": [
       "0.37998112258966954"
      ]
     },
     "execution_count": 216,
     "metadata": {},
     "output_type": "execute_result"
    }
   ],
   "source": [
    "arr1[1][1]"
   ]
  },
  {
   "cell_type": "code",
   "execution_count": 222,
   "id": "feeb7cd8-560a-42a3-ab75-9e0cd837546e",
   "metadata": {},
   "outputs": [
    {
     "data": {
      "text/plain": [
       "array([0.99342425, 0.06939125, 0.30476824])"
      ]
     },
     "execution_count": 222,
     "metadata": {},
     "output_type": "execute_result"
    }
   ],
   "source": [
    "arr1[2:5, 1] # row, column"
   ]
  },
  {
   "cell_type": "code",
   "execution_count": 226,
   "id": "9bc64810-6417-4e62-8b53-ce954053d726",
   "metadata": {},
   "outputs": [],
   "source": [
    "arr = np.random.randint(1,100, (5,5))"
   ]
  },
  {
   "cell_type": "code",
   "execution_count": 228,
   "id": "eea84a89-95dd-4146-bc95-0b346f5cd061",
   "metadata": {},
   "outputs": [
    {
     "data": {
      "text/plain": [
       "array([[51,  1,  6, 91, 35],\n",
       "       [34, 32, 64, 74, 12],\n",
       "       [63, 52, 14, 85, 49],\n",
       "       [36, 89, 46, 62, 37],\n",
       "       [16, 61, 64, 15, 76]])"
      ]
     },
     "execution_count": 228,
     "metadata": {},
     "output_type": "execute_result"
    }
   ],
   "source": [
    "arr"
   ]
  },
  {
   "cell_type": "code",
   "execution_count": 230,
   "id": "009fdf14-f467-4a0e-8187-36648eabf880",
   "metadata": {},
   "outputs": [
    {
     "data": {
      "text/plain": [
       "array([[ True, False, False,  True, False],\n",
       "       [False, False,  True,  True, False],\n",
       "       [ True,  True, False,  True, False],\n",
       "       [False,  True, False,  True, False],\n",
       "       [False,  True,  True, False,  True]])"
      ]
     },
     "execution_count": 230,
     "metadata": {},
     "output_type": "execute_result"
    }
   ],
   "source": [
    "arr > 50"
   ]
  },
  {
   "cell_type": "code",
   "execution_count": 232,
   "id": "d349e55b-03ff-4ffb-b3f7-668323008232",
   "metadata": {},
   "outputs": [
    {
     "data": {
      "text/plain": [
       "array([51, 91, 64, 74, 63, 52, 85, 89, 62, 61, 64, 76])"
      ]
     },
     "execution_count": 232,
     "metadata": {},
     "output_type": "execute_result"
    }
   ],
   "source": [
    "arr[arr>50]"
   ]
  },
  {
   "cell_type": "code",
   "execution_count": 234,
   "id": "d81f5d58-9f6c-401c-9e62-7dd4b25716e3",
   "metadata": {},
   "outputs": [
    {
     "data": {
      "text/plain": [
       "array([[51,  1,  6, 91, 35],\n",
       "       [34, 32, 64, 74, 12],\n",
       "       [63, 52, 14, 85, 49],\n",
       "       [36, 89, 46, 62, 37],\n",
       "       [16, 61, 64, 15, 76]])"
      ]
     },
     "execution_count": 234,
     "metadata": {},
     "output_type": "execute_result"
    }
   ],
   "source": [
    "arr"
   ]
  },
  {
   "cell_type": "code",
   "execution_count": 236,
   "id": "544fd872-8e35-4bfd-8102-985d2fa49ada",
   "metadata": {},
   "outputs": [
    {
     "data": {
      "text/plain": [
       "array([[52, 14],\n",
       "       [89, 46]])"
      ]
     },
     "execution_count": 236,
     "metadata": {},
     "output_type": "execute_result"
    }
   ],
   "source": [
    "arr[2:4, 1:3]"
   ]
  },
  {
   "cell_type": "code",
   "execution_count": 238,
   "id": "31aac0bb-ad3c-4607-90ac-2a3fd687720e",
   "metadata": {},
   "outputs": [
    {
     "data": {
      "text/plain": [
       "51"
      ]
     },
     "execution_count": 238,
     "metadata": {},
     "output_type": "execute_result"
    }
   ],
   "source": [
    "arr[0][0]"
   ]
  },
  {
   "cell_type": "code",
   "execution_count": 240,
   "id": "2267677d-02a7-463d-943a-01148a09dea1",
   "metadata": {},
   "outputs": [],
   "source": [
    "arr[0][0] = 5000"
   ]
  },
  {
   "cell_type": "code",
   "execution_count": 242,
   "id": "7e570842-7207-4e55-9552-9872d754e32c",
   "metadata": {},
   "outputs": [
    {
     "data": {
      "text/plain": [
       "array([[5000,    1,    6,   91,   35],\n",
       "       [  34,   32,   64,   74,   12],\n",
       "       [  63,   52,   14,   85,   49],\n",
       "       [  36,   89,   46,   62,   37],\n",
       "       [  16,   61,   64,   15,   76]])"
      ]
     },
     "execution_count": 242,
     "metadata": {},
     "output_type": "execute_result"
    }
   ],
   "source": [
    "arr"
   ]
  },
  {
   "cell_type": "code",
   "execution_count": 250,
   "id": "debe2540-34c7-4994-ac4c-72f03d67a8f1",
   "metadata": {},
   "outputs": [],
   "source": [
    "arr1 = np.random.randint(1,3, (3,3))\n",
    "arr2 = np.random.randint(1,3, (3,3))"
   ]
  },
  {
   "cell_type": "code",
   "execution_count": 252,
   "id": "8b8ea197-0959-44b5-8736-27f32b7bba1c",
   "metadata": {},
   "outputs": [
    {
     "data": {
      "text/plain": [
       "array([[2, 1, 1],\n",
       "       [2, 1, 1],\n",
       "       [1, 1, 1]])"
      ]
     },
     "execution_count": 252,
     "metadata": {},
     "output_type": "execute_result"
    }
   ],
   "source": [
    "arr1"
   ]
  },
  {
   "cell_type": "code",
   "execution_count": 254,
   "id": "4da8d598-6956-43c9-b4a6-9b37610fb712",
   "metadata": {},
   "outputs": [
    {
     "data": {
      "text/plain": [
       "array([[1, 2, 1],\n",
       "       [1, 1, 1],\n",
       "       [1, 1, 2]])"
      ]
     },
     "execution_count": 254,
     "metadata": {},
     "output_type": "execute_result"
    }
   ],
   "source": [
    "arr2"
   ]
  },
  {
   "cell_type": "code",
   "execution_count": 256,
   "id": "7e89074c-4bb1-4b16-84d5-ad6b09169dc0",
   "metadata": {},
   "outputs": [
    {
     "data": {
      "text/plain": [
       "array([[3, 3, 2],\n",
       "       [3, 2, 2],\n",
       "       [2, 2, 3]])"
      ]
     },
     "execution_count": 256,
     "metadata": {},
     "output_type": "execute_result"
    }
   ],
   "source": [
    "arr1 + arr2"
   ]
  },
  {
   "cell_type": "code",
   "execution_count": 258,
   "id": "19f32979-202e-4cfd-bf0f-11f09bbd5550",
   "metadata": {},
   "outputs": [
    {
     "data": {
      "text/plain": [
       "array([[ 1, -1,  0],\n",
       "       [ 1,  0,  0],\n",
       "       [ 0,  0, -1]])"
      ]
     },
     "execution_count": 258,
     "metadata": {},
     "output_type": "execute_result"
    }
   ],
   "source": [
    "arr1 - arr2"
   ]
  },
  {
   "cell_type": "code",
   "execution_count": 260,
   "id": "62e5e350-5875-4488-a38f-b267be6a1a12",
   "metadata": {},
   "outputs": [
    {
     "data": {
      "text/plain": [
       "array([[2. , 0.5, 1. ],\n",
       "       [2. , 1. , 1. ],\n",
       "       [1. , 1. , 0.5]])"
      ]
     },
     "execution_count": 260,
     "metadata": {},
     "output_type": "execute_result"
    }
   ],
   "source": [
    "arr1 / arr2"
   ]
  },
  {
   "cell_type": "code",
   "execution_count": 262,
   "id": "79f2f619-c8a2-4515-9320-70fd0221d96d",
   "metadata": {},
   "outputs": [
    {
     "data": {
      "text/plain": [
       "array([[2, 2, 1],\n",
       "       [2, 1, 1],\n",
       "       [1, 1, 2]])"
      ]
     },
     "execution_count": 262,
     "metadata": {},
     "output_type": "execute_result"
    }
   ],
   "source": [
    "arr1 * arr2"
   ]
  },
  {
   "cell_type": "code",
   "execution_count": 264,
   "id": "ef53f23a-6e0d-49ca-a868-4121a678d5ab",
   "metadata": {},
   "outputs": [
    {
     "data": {
      "text/plain": [
       "array([[4, 6, 5],\n",
       "       [4, 6, 5],\n",
       "       [3, 4, 4]])"
      ]
     },
     "execution_count": 264,
     "metadata": {},
     "output_type": "execute_result"
    }
   ],
   "source": [
    "arr1 @ arr2"
   ]
  },
  {
   "cell_type": "code",
   "execution_count": 266,
   "id": "ca06dba5-376a-4a82-b949-decc568f5a6a",
   "metadata": {},
   "outputs": [
    {
     "name": "stderr",
     "output_type": "stream",
     "text": [
      "/var/folders/rv/pw1qbgxd5xb8ks1_rywswp8m0000gn/T/ipykernel_45436/1510032488.py:1: RuntimeWarning: divide by zero encountered in divide\n",
      "  arr1/0\n"
     ]
    },
    {
     "data": {
      "text/plain": [
       "array([[inf, inf, inf],\n",
       "       [inf, inf, inf],\n",
       "       [inf, inf, inf]])"
      ]
     },
     "execution_count": 266,
     "metadata": {},
     "output_type": "execute_result"
    }
   ],
   "source": [
    "arr1/0"
   ]
  },
  {
   "cell_type": "code",
   "execution_count": 268,
   "id": "be7a5654-bbd1-4c3e-ba15-0b3b1ebefd92",
   "metadata": {},
   "outputs": [
    {
     "data": {
      "text/plain": [
       "array([[2, 1, 1],\n",
       "       [2, 1, 1],\n",
       "       [1, 1, 1]])"
      ]
     },
     "execution_count": 268,
     "metadata": {},
     "output_type": "execute_result"
    }
   ],
   "source": [
    "arr1"
   ]
  },
  {
   "cell_type": "code",
   "execution_count": 270,
   "id": "1a62e729-d90f-4b59-a71c-0553f3263da9",
   "metadata": {},
   "outputs": [
    {
     "data": {
      "text/plain": [
       "array([[102, 101, 101],\n",
       "       [102, 101, 101],\n",
       "       [101, 101, 101]])"
      ]
     },
     "execution_count": 270,
     "metadata": {},
     "output_type": "execute_result"
    }
   ],
   "source": [
    "arr1 + 100"
   ]
  },
  {
   "cell_type": "code",
   "execution_count": 272,
   "id": "1facd470-6daf-4d3a-b796-1cddc6681b11",
   "metadata": {},
   "outputs": [
    {
     "data": {
      "text/plain": [
       "array([[4, 1, 1],\n",
       "       [4, 1, 1],\n",
       "       [1, 1, 1]])"
      ]
     },
     "execution_count": 272,
     "metadata": {},
     "output_type": "execute_result"
    }
   ],
   "source": [
    "arr1 ** 2"
   ]
  },
  {
   "cell_type": "code",
   "execution_count": null,
   "id": "55fb5c18-1922-4729-8014-53c269c44d1f",
   "metadata": {},
   "outputs": [],
   "source": [
    "ar"
   ]
  }
 ],
 "metadata": {
  "kernelspec": {
   "display_name": "Python 3 (ipykernel)",
   "language": "python",
   "name": "python3"
  },
  "language_info": {
   "codemirror_mode": {
    "name": "ipython",
    "version": 3
   },
   "file_extension": ".py",
   "mimetype": "text/x-python",
   "name": "python",
   "nbconvert_exporter": "python",
   "pygments_lexer": "ipython3",
   "version": "3.12.7"
  }
 },
 "nbformat": 4,
 "nbformat_minor": 5
}
