{
 "cells": [
  {
   "cell_type": "code",
   "execution_count": 3,
   "id": "01c29cba-5045-4874-bbff-ae71cb15c333",
   "metadata": {},
   "outputs": [],
   "source": [
    "#Numpy - Array Manipulation"
   ]
  },
  {
   "cell_type": "code",
   "execution_count": 5,
   "id": "2c6cc1ce-d974-465a-beea-eedd563e87b9",
   "metadata": {},
   "outputs": [],
   "source": [
    "import numpy as np"
   ]
  },
  {
   "cell_type": "code",
   "execution_count": 7,
   "id": "c14fe520-9fb8-47d6-8415-d9e14f060423",
   "metadata": {},
   "outputs": [],
   "source": [
    "arr = np.random.randint(1,10, (3,4))"
   ]
  },
  {
   "cell_type": "code",
   "execution_count": 9,
   "id": "fc37813e-64af-4462-a209-8cd2a02e6d4c",
   "metadata": {},
   "outputs": [
    {
     "data": {
      "text/plain": [
       "array([[6, 7, 7, 4],\n",
       "       [5, 8, 7, 7],\n",
       "       [8, 2, 2, 9]])"
      ]
     },
     "execution_count": 9,
     "metadata": {},
     "output_type": "execute_result"
    }
   ],
   "source": [
    "arr"
   ]
  },
  {
   "cell_type": "code",
   "execution_count": 11,
   "id": "9ce4d2fe-f310-4bb7-bc6f-7174ddf38b61",
   "metadata": {},
   "outputs": [
    {
     "data": {
      "text/plain": [
       "array([[6, 7],\n",
       "       [7, 4],\n",
       "       [5, 8],\n",
       "       [7, 7],\n",
       "       [8, 2],\n",
       "       [2, 9]])"
      ]
     },
     "execution_count": 11,
     "metadata": {},
     "output_type": "execute_result"
    }
   ],
   "source": [
    "arr.reshape(6,2)"
   ]
  },
  {
   "cell_type": "code",
   "execution_count": 13,
   "id": "abd0a709-21e6-4778-b614-d3dae9219e5e",
   "metadata": {},
   "outputs": [
    {
     "data": {
      "text/plain": [
       "array([[6, 7, 7, 4, 5, 8],\n",
       "       [7, 7, 8, 2, 2, 9]])"
      ]
     },
     "execution_count": 13,
     "metadata": {},
     "output_type": "execute_result"
    }
   ],
   "source": [
    "arr.reshape(2,6)"
   ]
  },
  {
   "cell_type": "code",
   "execution_count": 15,
   "id": "eb7c746f-7d85-4a9c-bb21-4484530c24d4",
   "metadata": {},
   "outputs": [
    {
     "data": {
      "text/plain": [
       "array([[6, 7, 7, 4],\n",
       "       [5, 8, 7, 7],\n",
       "       [8, 2, 2, 9]])"
      ]
     },
     "execution_count": 15,
     "metadata": {},
     "output_type": "execute_result"
    }
   ],
   "source": [
    "arr"
   ]
  },
  {
   "cell_type": "code",
   "execution_count": 17,
   "id": "2fe73398-324c-41fd-9ef2-5b25aec9bd87",
   "metadata": {},
   "outputs": [
    {
     "data": {
      "text/plain": [
       "array([[6, 5, 8],\n",
       "       [7, 8, 2],\n",
       "       [7, 7, 2],\n",
       "       [4, 7, 9]])"
      ]
     },
     "execution_count": 17,
     "metadata": {},
     "output_type": "execute_result"
    }
   ],
   "source": [
    "arr.T"
   ]
  },
  {
   "cell_type": "code",
   "execution_count": 19,
   "id": "cdaac884-be70-42b5-b214-0aef452d2e74",
   "metadata": {},
   "outputs": [
    {
     "data": {
      "text/plain": [
       "array([6, 7, 7, 4, 5, 8, 7, 7, 8, 2, 2, 9])"
      ]
     },
     "execution_count": 19,
     "metadata": {},
     "output_type": "execute_result"
    }
   ],
   "source": [
    "arr.flatten()"
   ]
  },
  {
   "cell_type": "code",
   "execution_count": 21,
   "id": "5f9c2c00-d7d7-4b73-9ecb-1d4712c15397",
   "metadata": {},
   "outputs": [],
   "source": [
    "arr1 = np.array([1,2,3,3,4])"
   ]
  },
  {
   "cell_type": "code",
   "execution_count": 23,
   "id": "775de6ad-9980-47cb-a18b-3f0ffa422cc5",
   "metadata": {},
   "outputs": [
    {
     "data": {
      "text/plain": [
       "1"
      ]
     },
     "execution_count": 23,
     "metadata": {},
     "output_type": "execute_result"
    }
   ],
   "source": [
    "arr1.ndim"
   ]
  },
  {
   "cell_type": "code",
   "execution_count": 25,
   "id": "effbc6a5-22b9-4cc7-9916-011457702ea7",
   "metadata": {},
   "outputs": [
    {
     "data": {
      "text/plain": [
       "array([[1],\n",
       "       [2],\n",
       "       [3],\n",
       "       [3],\n",
       "       [4]])"
      ]
     },
     "execution_count": 25,
     "metadata": {},
     "output_type": "execute_result"
    }
   ],
   "source": [
    "np.expand_dims(arr1, axis=1)"
   ]
  },
  {
   "cell_type": "code",
   "execution_count": 27,
   "id": "7b0d481f-0f44-4b58-a562-fa1e33568b76",
   "metadata": {},
   "outputs": [
    {
     "data": {
      "text/plain": [
       "array([[1, 2, 3, 3, 4]])"
      ]
     },
     "execution_count": 27,
     "metadata": {},
     "output_type": "execute_result"
    }
   ],
   "source": [
    "np.expand_dims(arr1, axis=0)"
   ]
  },
  {
   "cell_type": "code",
   "execution_count": 29,
   "id": "44b6dc38-0872-4ac0-9398-9f62fd773b62",
   "metadata": {},
   "outputs": [
    {
     "data": {
      "text/plain": [
       "array([[6, 7, 7, 4],\n",
       "       [5, 8, 7, 7],\n",
       "       [8, 2, 2, 9]])"
      ]
     },
     "execution_count": 29,
     "metadata": {},
     "output_type": "execute_result"
    }
   ],
   "source": [
    "arr"
   ]
  },
  {
   "cell_type": "code",
   "execution_count": 31,
   "id": "8a34a929-df7f-466d-b6e5-736a00683ec6",
   "metadata": {},
   "outputs": [
    {
     "data": {
      "text/plain": [
       "array([[6, 7, 7, 4],\n",
       "       [5, 8, 7, 7],\n",
       "       [8, 2, 2, 9]])"
      ]
     },
     "execution_count": 31,
     "metadata": {},
     "output_type": "execute_result"
    }
   ],
   "source": [
    "np.squeeze(arr)"
   ]
  },
  {
   "cell_type": "code",
   "execution_count": 33,
   "id": "bfec6113-0d44-4d12-97e2-95ec80285d52",
   "metadata": {},
   "outputs": [],
   "source": [
    "data = np.array([[1], [2], [3]])"
   ]
  },
  {
   "cell_type": "code",
   "execution_count": 35,
   "id": "1d6fd200-bfda-4a73-b1ae-7a34a462686b",
   "metadata": {},
   "outputs": [
    {
     "data": {
      "text/plain": [
       "array([[1],\n",
       "       [2],\n",
       "       [3]])"
      ]
     },
     "execution_count": 35,
     "metadata": {},
     "output_type": "execute_result"
    }
   ],
   "source": [
    "data"
   ]
  },
  {
   "cell_type": "code",
   "execution_count": 37,
   "id": "46b532f0-a218-4156-9734-b2d68e7c23cb",
   "metadata": {},
   "outputs": [
    {
     "data": {
      "text/plain": [
       "array([1, 2, 3])"
      ]
     },
     "execution_count": 37,
     "metadata": {},
     "output_type": "execute_result"
    }
   ],
   "source": [
    "np.squeeze(data)"
   ]
  },
  {
   "cell_type": "code",
   "execution_count": 39,
   "id": "c060f758-016c-4734-ab9f-e87f1a6615d4",
   "metadata": {},
   "outputs": [
    {
     "data": {
      "text/plain": [
       "array([1, 2, 3, 3, 4])"
      ]
     },
     "execution_count": 39,
     "metadata": {},
     "output_type": "execute_result"
    }
   ],
   "source": [
    "arr1"
   ]
  },
  {
   "cell_type": "code",
   "execution_count": 41,
   "id": "8b8e593a-4c31-4470-bb45-aab37279af7c",
   "metadata": {},
   "outputs": [
    {
     "data": {
      "text/plain": [
       "array([1, 1, 1, 2, 2, 2, 3, 3, 3, 3, 3, 3, 4, 4, 4])"
      ]
     },
     "execution_count": 41,
     "metadata": {},
     "output_type": "execute_result"
    }
   ],
   "source": [
    "np.repeat(arr1, 3)"
   ]
  },
  {
   "cell_type": "code",
   "execution_count": 43,
   "id": "97c3c420-5cc3-40b8-9595-d8782bd5521a",
   "metadata": {},
   "outputs": [
    {
     "data": {
      "text/plain": [
       "array([3, 4, 1, 2, 3])"
      ]
     },
     "execution_count": 43,
     "metadata": {},
     "output_type": "execute_result"
    }
   ],
   "source": [
    "np.roll(arr1, 2)"
   ]
  },
  {
   "cell_type": "code",
   "execution_count": 45,
   "id": "64e81ef9-cc96-4325-8604-8a6882e022fb",
   "metadata": {},
   "outputs": [
    {
     "data": {
      "text/plain": [
       "array([1, 2, 3, 3, 4])"
      ]
     },
     "execution_count": 45,
     "metadata": {},
     "output_type": "execute_result"
    }
   ],
   "source": [
    "arr1"
   ]
  },
  {
   "cell_type": "code",
   "execution_count": 47,
   "id": "130e823b-8673-44bb-95f7-27658eb6fcfd",
   "metadata": {},
   "outputs": [
    {
     "data": {
      "text/plain": [
       "array([[1, 0, 0, 0, 0],\n",
       "       [0, 2, 0, 0, 0],\n",
       "       [0, 0, 3, 0, 0],\n",
       "       [0, 0, 0, 3, 0],\n",
       "       [0, 0, 0, 0, 4]])"
      ]
     },
     "execution_count": 47,
     "metadata": {},
     "output_type": "execute_result"
    }
   ],
   "source": [
    "np.diag(arr1)"
   ]
  },
  {
   "cell_type": "code",
   "execution_count": null,
   "id": "a82ef281-46aa-4e9d-8931-5cf5f8bdd20f",
   "metadata": {},
   "outputs": [],
   "source": []
  }
 ],
 "metadata": {
  "kernelspec": {
   "display_name": "Python 3 (ipykernel)",
   "language": "python",
   "name": "python3"
  },
  "language_info": {
   "codemirror_mode": {
    "name": "ipython",
    "version": 3
   },
   "file_extension": ".py",
   "mimetype": "text/x-python",
   "name": "python",
   "nbconvert_exporter": "python",
   "pygments_lexer": "ipython3",
   "version": "3.12.7"
  }
 },
 "nbformat": 4,
 "nbformat_minor": 5
}
