{
 "cells": [
  {
   "cell_type": "code",
   "execution_count": 3,
   "id": "01c29cba-5045-4874-bbff-ae71cb15c333",
   "metadata": {},
   "outputs": [],
   "source": [
    "#Numpy - Array Manipulation"
   ]
  },
  {
   "cell_type": "code",
   "execution_count": 5,
   "id": "2c6cc1ce-d974-465a-beea-eedd563e87b9",
   "metadata": {},
   "outputs": [],
   "source": [
    "import numpy as np"
   ]
  },
  {
   "cell_type": "code",
   "execution_count": 7,
   "id": "c14fe520-9fb8-47d6-8415-d9e14f060423",
   "metadata": {},
   "outputs": [],
   "source": [
    "arr = np.random.randint(1,10, (3,4))"
   ]
  },
  {
   "cell_type": "code",
   "execution_count": 9,
   "id": "fc37813e-64af-4462-a209-8cd2a02e6d4c",
   "metadata": {},
   "outputs": [
    {
     "data": {
      "text/plain": [
       "array([[6, 7, 7, 4],\n",
       "       [5, 8, 7, 7],\n",
       "       [8, 2, 2, 9]])"
      ]
     },
     "execution_count": 9,
     "metadata": {},
     "output_type": "execute_result"
    }
   ],
   "source": [
    "arr"
   ]
  },
  {
   "cell_type": "code",
   "execution_count": 11,
   "id": "9ce4d2fe-f310-4bb7-bc6f-7174ddf38b61",
   "metadata": {},
   "outputs": [
    {
     "data": {
      "text/plain": [
       "array([[6, 7],\n",
       "       [7, 4],\n",
       "       [5, 8],\n",
       "       [7, 7],\n",
       "       [8, 2],\n",
       "       [2, 9]])"
      ]
     },
     "execution_count": 11,
     "metadata": {},
     "output_type": "execute_result"
    }
   ],
   "source": [
    "arr.reshape(6,2)"
   ]
  },
  {
   "cell_type": "code",
   "execution_count": 13,
   "id": "abd0a709-21e6-4778-b614-d3dae9219e5e",
   "metadata": {},
   "outputs": [
    {
     "data": {
      "text/plain": [
       "array([[6, 7, 7, 4, 5, 8],\n",
       "       [7, 7, 8, 2, 2, 9]])"
      ]
     },
     "execution_count": 13,
     "metadata": {},
     "output_type": "execute_result"
    }
   ],
   "source": [
    "arr.reshape(2,6)"
   ]
  },
  {
   "cell_type": "code",
   "execution_count": 15,
   "id": "eb7c746f-7d85-4a9c-bb21-4484530c24d4",
   "metadata": {},
   "outputs": [
    {
     "data": {
      "text/plain": [
       "array([[6, 7, 7, 4],\n",
       "       [5, 8, 7, 7],\n",
       "       [8, 2, 2, 9]])"
      ]
     },
     "execution_count": 15,
     "metadata": {},
     "output_type": "execute_result"
    }
   ],
   "source": [
    "arr"
   ]
  },
  {
   "cell_type": "code",
   "execution_count": 17,
   "id": "2fe73398-324c-41fd-9ef2-5b25aec9bd87",
   "metadata": {},
   "outputs": [
    {
     "data": {
      "text/plain": [
       "array([[6, 5, 8],\n",
       "       [7, 8, 2],\n",
       "       [7, 7, 2],\n",
       "       [4, 7, 9]])"
      ]
     },
     "execution_count": 17,
     "metadata": {},
     "output_type": "execute_result"
    }
   ],
   "source": [
    "arr.T"
   ]
  },
  {
   "cell_type": "code",
   "execution_count": 19,
   "id": "cdaac884-be70-42b5-b214-0aef452d2e74",
   "metadata": {},
   "outputs": [
    {
     "data": {
      "text/plain": [
       "array([6, 7, 7, 4, 5, 8, 7, 7, 8, 2, 2, 9])"
      ]
     },
     "execution_count": 19,
     "metadata": {},
     "output_type": "execute_result"
    }
   ],
   "source": [
    "arr.flatten()"
   ]
  },
  {
   "cell_type": "code",
   "execution_count": 21,
   "id": "5f9c2c00-d7d7-4b73-9ecb-1d4712c15397",
   "metadata": {},
   "outputs": [],
   "source": [
    "arr1 = np.array([1,2,3,3,4])"
   ]
  },
  {
   "cell_type": "code",
   "execution_count": 23,
   "id": "775de6ad-9980-47cb-a18b-3f0ffa422cc5",
   "metadata": {},
   "outputs": [
    {
     "data": {
      "text/plain": [
       "1"
      ]
     },
     "execution_count": 23,
     "metadata": {},
     "output_type": "execute_result"
    }
   ],
   "source": [
    "arr1.ndim"
   ]
  },
  {
   "cell_type": "code",
   "execution_count": 25,
   "id": "effbc6a5-22b9-4cc7-9916-011457702ea7",
   "metadata": {},
   "outputs": [
    {
     "data": {
      "text/plain": [
       "array([[1],\n",
       "       [2],\n",
       "       [3],\n",
       "       [3],\n",
       "       [4]])"
      ]
     },
     "execution_count": 25,
     "metadata": {},
     "output_type": "execute_result"
    }
   ],
   "source": [
    "np.expand_dims(arr1, axis=1)"
   ]
  },
  {
   "cell_type": "code",
   "execution_count": 27,
   "id": "7b0d481f-0f44-4b58-a562-fa1e33568b76",
   "metadata": {},
   "outputs": [
    {
     "data": {
      "text/plain": [
       "array([[1, 2, 3, 3, 4]])"
      ]
     },
     "execution_count": 27,
     "metadata": {},
     "output_type": "execute_result"
    }
   ],
   "source": [
    "np.expand_dims(arr1, axis=0)"
   ]
  },
  {
   "cell_type": "code",
   "execution_count": 29,
   "id": "44b6dc38-0872-4ac0-9398-9f62fd773b62",
   "metadata": {},
   "outputs": [
    {
     "data": {
      "text/plain": [
       "array([[6, 7, 7, 4],\n",
       "       [5, 8, 7, 7],\n",
       "       [8, 2, 2, 9]])"
      ]
     },
     "execution_count": 29,
     "metadata": {},
     "output_type": "execute_result"
    }
   ],
   "source": [
    "arr"
   ]
  },
  {
   "cell_type": "code",
   "execution_count": 31,
   "id": "8a34a929-df7f-466d-b6e5-736a00683ec6",
   "metadata": {},
   "outputs": [
    {
     "data": {
      "text/plain": [
       "array([[6, 7, 7, 4],\n",
       "       [5, 8, 7, 7],\n",
       "       [8, 2, 2, 9]])"
      ]
     },
     "execution_count": 31,
     "metadata": {},
     "output_type": "execute_result"
    }
   ],
   "source": [
    "np.squeeze(arr)"
   ]
  },
  {
   "cell_type": "code",
   "execution_count": 33,
   "id": "bfec6113-0d44-4d12-97e2-95ec80285d52",
   "metadata": {},
   "outputs": [],
   "source": [
    "data = np.array([[1], [2], [3]])"
   ]
  },
  {
   "cell_type": "code",
   "execution_count": 35,
   "id": "1d6fd200-bfda-4a73-b1ae-7a34a462686b",
   "metadata": {},
   "outputs": [
    {
     "data": {
      "text/plain": [
       "array([[1],\n",
       "       [2],\n",
       "       [3]])"
      ]
     },
     "execution_count": 35,
     "metadata": {},
     "output_type": "execute_result"
    }
   ],
   "source": [
    "data"
   ]
  },
  {
   "cell_type": "code",
   "execution_count": 37,
   "id": "46b532f0-a218-4156-9734-b2d68e7c23cb",
   "metadata": {},
   "outputs": [
    {
     "data": {
      "text/plain": [
       "array([1, 2, 3])"
      ]
     },
     "execution_count": 37,
     "metadata": {},
     "output_type": "execute_result"
    }
   ],
   "source": [
    "np.squeeze(data)"
   ]
  },
  {
   "cell_type": "code",
   "execution_count": 39,
   "id": "c060f758-016c-4734-ab9f-e87f1a6615d4",
   "metadata": {},
   "outputs": [
    {
     "data": {
      "text/plain": [
       "array([1, 2, 3, 3, 4])"
      ]
     },
     "execution_count": 39,
     "metadata": {},
     "output_type": "execute_result"
    }
   ],
   "source": [
    "arr1"
   ]
  },
  {
   "cell_type": "code",
   "execution_count": 41,
   "id": "8b8e593a-4c31-4470-bb45-aab37279af7c",
   "metadata": {},
   "outputs": [
    {
     "data": {
      "text/plain": [
       "array([1, 1, 1, 2, 2, 2, 3, 3, 3, 3, 3, 3, 4, 4, 4])"
      ]
     },
     "execution_count": 41,
     "metadata": {},
     "output_type": "execute_result"
    }
   ],
   "source": [
    "np.repeat(arr1, 3)"
   ]
  },
  {
   "cell_type": "code",
   "execution_count": 43,
   "id": "97c3c420-5cc3-40b8-9595-d8782bd5521a",
   "metadata": {},
   "outputs": [
    {
     "data": {
      "text/plain": [
       "array([3, 4, 1, 2, 3])"
      ]
     },
     "execution_count": 43,
     "metadata": {},
     "output_type": "execute_result"
    }
   ],
   "source": [
    "np.roll(arr1, 2)"
   ]
  },
  {
   "cell_type": "code",
   "execution_count": 45,
   "id": "64e81ef9-cc96-4325-8604-8a6882e022fb",
   "metadata": {},
   "outputs": [
    {
     "data": {
      "text/plain": [
       "array([1, 2, 3, 3, 4])"
      ]
     },
     "execution_count": 45,
     "metadata": {},
     "output_type": "execute_result"
    }
   ],
   "source": [
    "arr1"
   ]
  },
  {
   "cell_type": "code",
   "execution_count": 47,
   "id": "130e823b-8673-44bb-95f7-27658eb6fcfd",
   "metadata": {},
   "outputs": [
    {
     "data": {
      "text/plain": [
       "array([[1, 0, 0, 0, 0],\n",
       "       [0, 2, 0, 0, 0],\n",
       "       [0, 0, 3, 0, 0],\n",
       "       [0, 0, 0, 3, 0],\n",
       "       [0, 0, 0, 0, 4]])"
      ]
     },
     "execution_count": 47,
     "metadata": {},
     "output_type": "execute_result"
    }
   ],
   "source": [
    "np.diag(arr1)"
   ]
  },
  {
   "cell_type": "code",
   "execution_count": 49,
   "id": "a82ef281-46aa-4e9d-8931-5cf5f8bdd20f",
   "metadata": {},
   "outputs": [],
   "source": [
    "#Numpy - Binary Operators"
   ]
  },
  {
   "cell_type": "code",
   "execution_count": 51,
   "id": "1df5baf2-c4c8-4866-9f51-c60fca4152df",
   "metadata": {},
   "outputs": [],
   "source": [
    "arr1 = np.random.randint(1,10, (3,4))"
   ]
  },
  {
   "cell_type": "code",
   "execution_count": 55,
   "id": "c49d44d0-b0d4-4041-ab25-e62c689cb7ec",
   "metadata": {},
   "outputs": [],
   "source": [
    "arr2 = np.random.randint(1,10, (3,4))"
   ]
  },
  {
   "cell_type": "code",
   "execution_count": 57,
   "id": "46ffc901-f678-481a-966c-bc2960f1a87f",
   "metadata": {},
   "outputs": [
    {
     "data": {
      "text/plain": [
       "array([[3, 8, 5, 4],\n",
       "       [5, 1, 3, 1],\n",
       "       [7, 6, 4, 1]])"
      ]
     },
     "execution_count": 57,
     "metadata": {},
     "output_type": "execute_result"
    }
   ],
   "source": [
    "arr1"
   ]
  },
  {
   "cell_type": "code",
   "execution_count": 59,
   "id": "d764b0e3-4ff9-4f88-bb92-fb8d42e9bbff",
   "metadata": {},
   "outputs": [
    {
     "data": {
      "text/plain": [
       "array([[3, 8, 3, 8],\n",
       "       [3, 7, 7, 8],\n",
       "       [7, 4, 7, 3]])"
      ]
     },
     "execution_count": 59,
     "metadata": {},
     "output_type": "execute_result"
    }
   ],
   "source": [
    "arr2"
   ]
  },
  {
   "cell_type": "code",
   "execution_count": 61,
   "id": "e2610644-8e88-4f57-a052-d5534f1b144f",
   "metadata": {},
   "outputs": [
    {
     "data": {
      "text/plain": [
       "array([[ 6, 16,  8, 12],\n",
       "       [ 8,  8, 10,  9],\n",
       "       [14, 10, 11,  4]])"
      ]
     },
     "execution_count": 61,
     "metadata": {},
     "output_type": "execute_result"
    }
   ],
   "source": [
    "arr1 + arr2"
   ]
  },
  {
   "cell_type": "code",
   "execution_count": 63,
   "id": "295becb1-ec7f-4d73-819c-b0271dc81106",
   "metadata": {},
   "outputs": [
    {
     "data": {
      "text/plain": [
       "array([[ 9, 64, 15, 32],\n",
       "       [15,  7, 21,  8],\n",
       "       [49, 24, 28,  3]])"
      ]
     },
     "execution_count": 63,
     "metadata": {},
     "output_type": "execute_result"
    }
   ],
   "source": [
    "arr1 * arr2"
   ]
  },
  {
   "cell_type": "code",
   "execution_count": 67,
   "id": "ed409c1c-c7b6-4abd-9977-33c3659dc241",
   "metadata": {},
   "outputs": [
    {
     "data": {
      "text/plain": [
       "array([[1.        , 1.        , 1.66666667, 0.5       ],\n",
       "       [1.66666667, 0.14285714, 0.42857143, 0.125     ],\n",
       "       [1.        , 1.5       , 0.57142857, 0.33333333]])"
      ]
     },
     "execution_count": 67,
     "metadata": {},
     "output_type": "execute_result"
    }
   ],
   "source": [
    "arr1 / arr2"
   ]
  },
  {
   "cell_type": "code",
   "execution_count": 69,
   "id": "6701d7b8-8839-4e88-91fe-daa780ef77d4",
   "metadata": {},
   "outputs": [
    {
     "data": {
      "text/plain": [
       "array([[ 0,  0,  2, -4],\n",
       "       [ 2, -6, -4, -7],\n",
       "       [ 0,  2, -3, -2]])"
      ]
     },
     "execution_count": 69,
     "metadata": {},
     "output_type": "execute_result"
    }
   ],
   "source": [
    "arr1 - arr2"
   ]
  },
  {
   "cell_type": "code",
   "execution_count": 71,
   "id": "a1e2fa27-cdff-4682-88cc-464f52c38c20",
   "metadata": {},
   "outputs": [
    {
     "data": {
      "text/plain": [
       "array([[0, 0, 2, 4],\n",
       "       [2, 1, 3, 1],\n",
       "       [0, 2, 4, 1]])"
      ]
     },
     "execution_count": 71,
     "metadata": {},
     "output_type": "execute_result"
    }
   ],
   "source": [
    "arr1 % arr2"
   ]
  },
  {
   "cell_type": "code",
   "execution_count": 73,
   "id": "2412f211-7d9c-4757-a3f4-00c997f6b534",
   "metadata": {},
   "outputs": [
    {
     "data": {
      "text/plain": [
       "array([[      27, 16777216,      125,    65536],\n",
       "       [     125,        1,     2187,        1],\n",
       "       [  823543,     1296,    16384,        1]])"
      ]
     },
     "execution_count": 73,
     "metadata": {},
     "output_type": "execute_result"
    }
   ],
   "source": [
    "arr1 ** arr2"
   ]
  },
  {
   "cell_type": "code",
   "execution_count": 75,
   "id": "c1bf3b29-6d98-48db-a493-c0a5549e490f",
   "metadata": {},
   "outputs": [
    {
     "data": {
      "text/plain": [
       "array([[3, 8, 1, 0],\n",
       "       [1, 1, 3, 0],\n",
       "       [7, 4, 4, 1]])"
      ]
     },
     "execution_count": 75,
     "metadata": {},
     "output_type": "execute_result"
    }
   ],
   "source": [
    "arr1 & arr2"
   ]
  },
  {
   "cell_type": "code",
   "execution_count": 77,
   "id": "1757bddd-4033-4b8e-8475-d76d0807f6e6",
   "metadata": {},
   "outputs": [
    {
     "data": {
      "text/plain": [
       "array([[-4, -9, -6, -5],\n",
       "       [-6, -2, -4, -2],\n",
       "       [-8, -7, -5, -2]])"
      ]
     },
     "execution_count": 77,
     "metadata": {},
     "output_type": "execute_result"
    }
   ],
   "source": [
    "~arr1"
   ]
  },
  {
   "cell_type": "code",
   "execution_count": 79,
   "id": "8130c91b-eaa9-4ec4-a3e8-864498d24479",
   "metadata": {},
   "outputs": [
    {
     "data": {
      "text/plain": [
       "array([[ 3,  8,  7, 12],\n",
       "       [ 7,  7,  7,  9],\n",
       "       [ 7,  6,  7,  3]])"
      ]
     },
     "execution_count": 79,
     "metadata": {},
     "output_type": "execute_result"
    }
   ],
   "source": [
    "arr1 | arr2"
   ]
  },
  {
   "cell_type": "code",
   "execution_count": 81,
   "id": "59e72ed8-0cf5-4002-9658-8c057820c509",
   "metadata": {},
   "outputs": [
    {
     "data": {
      "text/plain": [
       "array([[False, False,  True, False],\n",
       "       [ True, False, False, False],\n",
       "       [False,  True, False, False]])"
      ]
     },
     "execution_count": 81,
     "metadata": {},
     "output_type": "execute_result"
    }
   ],
   "source": [
    "arr1 > arr2"
   ]
  },
  {
   "cell_type": "code",
   "execution_count": 83,
   "id": "d0492f5f-94f5-4009-af63-58ee64807646",
   "metadata": {},
   "outputs": [],
   "source": [
    "#Numpy - String Functions"
   ]
  },
  {
   "cell_type": "code",
   "execution_count": 87,
   "id": "646dc25e-987b-4084-9fd9-4a97b73cbe94",
   "metadata": {},
   "outputs": [],
   "source": [
    "arr = np.array([\"Pranav\", \"Avasthi\"])"
   ]
  },
  {
   "cell_type": "code",
   "execution_count": 89,
   "id": "6fc4dc52-9b1a-47e9-be95-06f28a094bae",
   "metadata": {},
   "outputs": [
    {
     "data": {
      "text/plain": [
       "array(['Pranav', 'Avasthi'], dtype='<U7')"
      ]
     },
     "execution_count": 89,
     "metadata": {},
     "output_type": "execute_result"
    }
   ],
   "source": [
    "arr"
   ]
  },
  {
   "cell_type": "code",
   "execution_count": 91,
   "id": "11ef0d97-e0d0-42f7-b3e6-336e92d0763a",
   "metadata": {},
   "outputs": [
    {
     "data": {
      "text/plain": [
       "array(['PRANAV', 'AVASTHI'], dtype='<U7')"
      ]
     },
     "execution_count": 91,
     "metadata": {},
     "output_type": "execute_result"
    }
   ],
   "source": [
    "np.char.upper(arr)"
   ]
  },
  {
   "cell_type": "code",
   "execution_count": 93,
   "id": "743bf8dd-c565-4e25-8ae8-e52f6c3b65bb",
   "metadata": {},
   "outputs": [
    {
     "data": {
      "text/plain": [
       "array(['Pranav', 'Avasthi'], dtype='<U7')"
      ]
     },
     "execution_count": 93,
     "metadata": {},
     "output_type": "execute_result"
    }
   ],
   "source": [
    "np.char.title(arr)"
   ]
  },
  {
   "cell_type": "code",
   "execution_count": 95,
   "id": "d468abc1-0e0e-4749-b8ea-bda501bdbb9b",
   "metadata": {},
   "outputs": [
    {
     "data": {
      "text/plain": [
       "array(['Pranav', 'Avasthi'], dtype='<U7')"
      ]
     },
     "execution_count": 95,
     "metadata": {},
     "output_type": "execute_result"
    }
   ],
   "source": [
    "np.char.capitalize(arr)"
   ]
  },
  {
   "cell_type": "code",
   "execution_count": null,
   "id": "e5e79578-eb71-4c01-a6d7-48ca7e09d4f4",
   "metadata": {},
   "outputs": [],
   "source": []
  }
 ],
 "metadata": {
  "kernelspec": {
   "display_name": "Python 3 (ipykernel)",
   "language": "python",
   "name": "python3"
  },
  "language_info": {
   "codemirror_mode": {
    "name": "ipython",
    "version": 3
   },
   "file_extension": ".py",
   "mimetype": "text/x-python",
   "name": "python",
   "nbconvert_exporter": "python",
   "pygments_lexer": "ipython3",
   "version": "3.12.7"
  }
 },
 "nbformat": 4,
 "nbformat_minor": 5
}
