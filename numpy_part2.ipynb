{
 "cells": [
  {
   "cell_type": "code",
   "execution_count": 3,
   "id": "01c29cba-5045-4874-bbff-ae71cb15c333",
   "metadata": {},
   "outputs": [],
   "source": [
    "#Numpy - Array Manipulation"
   ]
  },
  {
   "cell_type": "code",
   "execution_count": 5,
   "id": "2c6cc1ce-d974-465a-beea-eedd563e87b9",
   "metadata": {},
   "outputs": [],
   "source": [
    "import numpy as np"
   ]
  },
  {
   "cell_type": "code",
   "execution_count": 7,
   "id": "c14fe520-9fb8-47d6-8415-d9e14f060423",
   "metadata": {},
   "outputs": [],
   "source": [
    "arr = np.random.randint(1,10, (3,4))"
   ]
  },
  {
   "cell_type": "code",
   "execution_count": 9,
   "id": "fc37813e-64af-4462-a209-8cd2a02e6d4c",
   "metadata": {},
   "outputs": [
    {
     "data": {
      "text/plain": [
       "array([[6, 7, 7, 4],\n",
       "       [5, 8, 7, 7],\n",
       "       [8, 2, 2, 9]])"
      ]
     },
     "execution_count": 9,
     "metadata": {},
     "output_type": "execute_result"
    }
   ],
   "source": [
    "arr"
   ]
  },
  {
   "cell_type": "code",
   "execution_count": null,
   "id": "9ce4d2fe-f310-4bb7-bc6f-7174ddf38b61",
   "metadata": {},
   "outputs": [],
   "source": []
  }
 ],
 "metadata": {
  "kernelspec": {
   "display_name": "Python 3 (ipykernel)",
   "language": "python",
   "name": "python3"
  },
  "language_info": {
   "codemirror_mode": {
    "name": "ipython",
    "version": 3
   },
   "file_extension": ".py",
   "mimetype": "text/x-python",
   "name": "python",
   "nbconvert_exporter": "python",
   "pygments_lexer": "ipython3",
   "version": "3.12.7"
  }
 },
 "nbformat": 4,
 "nbformat_minor": 5
}
